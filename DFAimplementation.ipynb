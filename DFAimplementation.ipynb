{
  "nbformat": 4,
  "nbformat_minor": 0,
  "metadata": {
    "colab": {
      "provenance": [],
      "authorship_tag": "ABX9TyPJMXH9ytKh3Xdt82d1hl8j",
      "include_colab_link": true
    },
    "kernelspec": {
      "name": "python3",
      "display_name": "Python 3"
    },
    "language_info": {
      "name": "python"
    }
  },
  "cells": [
    {
      "cell_type": "markdown",
      "metadata": {
        "id": "view-in-github",
        "colab_type": "text"
      },
      "source": [
        "<a href=\"https://colab.research.google.com/github/lakatosgabor/automata_construction/blob/main/DFAimplementation.ipynb\" target=\"_parent\"><img src=\"https://colab.research.google.com/assets/colab-badge.svg\" alt=\"Open In Colab\"/></a>"
      ]
    },
    {
      "cell_type": "markdown",
      "source": [
        "## DFA implementáció\n",
        "Email validátor reguláris kifejezésből: ([0-9]|[a-z]|.)*@([0-9]|[a-z]|.)*.[a-z]*"
      ],
      "metadata": {
        "id": "JH0qvf_nPL8U"
      }
    },
    {
      "cell_type": "code",
      "execution_count": 44,
      "metadata": {
        "id": "63x_CjXhKxJL"
      },
      "outputs": [],
      "source": [
        "class EmailValidator:\n",
        "    def __init__(self):\n",
        "        self.transitions = {\n",
        "            'q0': {'0-9': 'q1', 'a-z': 'q1', '.': 'q1'},\n",
        "            'q1': {'0-9': 'q1', 'a-z': 'q1', '.': 'q1', '@': 'q2'},\n",
        "            'q2': {'0-9': 'q3', 'a-z': 'q3', '.': 'q3'},\n",
        "            'q3': {'0-9': 'q3', 'a-z': 'q3', '.': 'q4'},\n",
        "            'q4': {'a-z': 'q5'},\n",
        "            'q5': {'a-z': 'q5'}\n",
        "        }\n",
        "        self.accept_states = {'q5', 'q6'}\n",
        "\n",
        "    def validate(self, email):\n",
        "        current_state = 'q0'\n",
        "        for char in email:\n",
        "            if char.isdigit():\n",
        "                char = '0-9'\n",
        "            elif char.isalpha():\n",
        "                char = 'a-z'\n",
        "            if char in self.transitions[current_state]:\n",
        "                current_state = self.transitions[current_state][char]\n",
        "            else:\n",
        "                return False\n",
        "\n",
        "        return current_state in self.accept_states"
      ]
    },
    {
      "cell_type": "markdown",
      "source": [
        "## Email tesztelés, valid esetek"
      ],
      "metadata": {
        "id": "AlGapTE1Rq8T"
      }
    },
    {
      "cell_type": "code",
      "source": [
        "validator = EmailValidator()"
      ],
      "metadata": {
        "id": "QmYam4wKRCto"
      },
      "execution_count": 45,
      "outputs": []
    },
    {
      "cell_type": "code",
      "source": [
        "email = 'hello@test.hu'\n",
        "\n",
        "if validator.validate(email):\n",
        "    print(\"The \", email, \"is a valid email address!\")\n",
        "else:\n",
        "    print(\"The \", email, \"is an invalid email address!\")"
      ],
      "metadata": {
        "colab": {
          "base_uri": "https://localhost:8080/"
        },
        "id": "gVrAstTiRGTM",
        "outputId": "526aa12d-2cc9-4dbf-e47f-8e77319592bf"
      },
      "execution_count": 46,
      "outputs": [
        {
          "output_type": "stream",
          "name": "stdout",
          "text": [
            "The  hello@test.hu is a valid email address!\n"
          ]
        }
      ]
    },
    {
      "cell_type": "code",
      "source": [
        "email = 'test@email.com'\n",
        "\n",
        "if validator.validate(email):\n",
        "    print(\"The \", email, \"is a valid email address!\")\n",
        "else:\n",
        "    print(\"The \", email, \"is an invalid email address!\")"
      ],
      "metadata": {
        "colab": {
          "base_uri": "https://localhost:8080/"
        },
        "id": "Pv_TCI-EO_U2",
        "outputId": "cb6ed732-751e-4107-9dd2-39099f4b6672"
      },
      "execution_count": 47,
      "outputs": [
        {
          "output_type": "stream",
          "name": "stdout",
          "text": [
            "The  test@email.com is a valid email address!\n"
          ]
        }
      ]
    },
    {
      "cell_type": "code",
      "source": [
        "email = 'emailAddress1234@mail.com'\n",
        "\n",
        "if validator.validate(email):\n",
        "    print(\"The \", email, \"is a valid email address!\")\n",
        "else:\n",
        "    print(\"The \", email, \"is an invalid email address!\")"
      ],
      "metadata": {
        "colab": {
          "base_uri": "https://localhost:8080/"
        },
        "id": "wLBqmHv6RAxg",
        "outputId": "8cf9fdff-84ef-4488-db41-978b235071c0"
      },
      "execution_count": 48,
      "outputs": [
        {
          "output_type": "stream",
          "name": "stdout",
          "text": [
            "The  emailAddress1234@mail.com is a valid email address!\n"
          ]
        }
      ]
    },
    {
      "cell_type": "markdown",
      "source": [
        "## Email tesztelés, invalid esetek"
      ],
      "metadata": {
        "id": "olBSj-jyRvqI"
      }
    },
    {
      "cell_type": "code",
      "source": [
        "validator = EmailValidator()"
      ],
      "metadata": {
        "id": "Q-EckWcER0o-"
      },
      "execution_count": 49,
      "outputs": []
    },
    {
      "cell_type": "code",
      "source": [
        "email = 'hellotest.hu'\n",
        "\n",
        "if validator.validate(email):\n",
        "    print(\"The \", email, \"is a valid email address!\")\n",
        "else:\n",
        "    print(\"The \", email, \"is an invalid email address!\")"
      ],
      "metadata": {
        "colab": {
          "base_uri": "https://localhost:8080/"
        },
        "id": "UqLkcI__R12r",
        "outputId": "eaba9077-e0da-4d91-be89-24e3218ae400"
      },
      "execution_count": 50,
      "outputs": [
        {
          "output_type": "stream",
          "name": "stdout",
          "text": [
            "The  hellotest.hu is an invalid email address!\n"
          ]
        }
      ]
    },
    {
      "cell_type": "code",
      "source": [
        "email = '-test@email.com'\n",
        "\n",
        "if validator.validate(email):\n",
        "    print(\"The \", email, \"is a valid email address!\")\n",
        "else:\n",
        "    print(\"The \", email, \"is an invalid email address!\")"
      ],
      "metadata": {
        "colab": {
          "base_uri": "https://localhost:8080/"
        },
        "id": "MfdZjMzKR4uP",
        "outputId": "27323a16-2f2f-4f28-e1e3-c939374c7d0d"
      },
      "execution_count": 51,
      "outputs": [
        {
          "output_type": "stream",
          "name": "stdout",
          "text": [
            "The  -test@email.com is an invalid email address!\n"
          ]
        }
      ]
    },
    {
      "cell_type": "code",
      "source": [
        "email = 'emailAddress1234@mail'\n",
        "\n",
        "if validator.validate(email):\n",
        "    print(\"The \", email, \"is a valid email address!\")\n",
        "else:\n",
        "    print(\"The \", email, \"is an invalid email address!\")"
      ],
      "metadata": {
        "colab": {
          "base_uri": "https://localhost:8080/"
        },
        "id": "r77hRVzTSS-o",
        "outputId": "f9135ed6-0f8e-4760-e7ec-7353d218ceef"
      },
      "execution_count": 52,
      "outputs": [
        {
          "output_type": "stream",
          "name": "stdout",
          "text": [
            "The  emailAddress1234@mail is an invalid email address!\n"
          ]
        }
      ]
    }
  ]
}